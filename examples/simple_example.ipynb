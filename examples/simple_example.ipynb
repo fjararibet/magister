{
 "cells": [
  {
   "cell_type": "code",
   "execution_count": 2,
   "metadata": {
    "metadata": {}
   },
   "outputs": [],
   "source": [
    "import viennals2d as vls\n",
    "import viennaps2d as vps\n",
    "\n",
    "import matplotlib.pyplot as plt\n",
    "import numpy as np\n",
    "\n",
    "vps.Logger.setLogLevel(vps.LogLevel.INFO)"
   ]
  },
  {
   "cell_type": "code",
   "execution_count": 3,
   "metadata": {
    "metadata": {}
   },
   "outputs": [],
   "source": [
    "def print_levelsets(domain, prefix=\"cvd_\"):\n",
    "    levelsets = domain.getLevelSets()\n",
    "    for i, ls in enumerate(levelsets):\n",
    "        mesh = vls.lsMesh()\n",
    "        vls.lsToSurfaceMesh(ls, mesh).apply()\n",
    "        vls.lsVTKWriter(mesh, prefix + str(i) + \".vtp\").apply()\n"
   ]
  },
  {
   "cell_type": "code",
   "execution_count": 4,
   "metadata": {
    "metadata": {}
   },
   "outputs": [
    {
     "name": "stdout",
     "output_type": "stream",
     "text": [
      "    Remaining time: 10.000000\n",
      "    Remaining time: 9.076833\n",
      "    Remaining time: 8.193126\n",
      "    Remaining time: 7.280228\n",
      "    Remaining time: 6.396521\n",
      "    Remaining time: 5.512815\n",
      "    Remaining time: 4.580488\n",
      "    Remaining time: 3.696781\n",
      "    Remaining time: 2.813075\n",
      "    Remaining time: 1.877506\n",
      "    Remaining time: 0.993799\n",
      "    Remaining time: 0.110092\n"
     ]
    }
   ],
   "source": [
    "domain = vps.Domain()\n",
    "vps.MakeTrench(domain=domain, \n",
    "               gridDelta=2.5, \n",
    "               xExtent=80., \n",
    "               yExtent=0., \n",
    "               trenchWidth=30., \n",
    "               trenchDepth=50., \n",
    "               taperingAngle=5., \n",
    "               material=vps.Material.Si).apply() \n",
    "# domain.saveVolumeMesh(\"initial\")\n",
    "\n",
    "domain.duplicateTopLevelSet(vps.Material.SiO2)\n",
    "\n",
    "iso = vps.IsotropicProcess(1.)\n",
    "vps.Process(domain, iso, 10.).apply()\n",
    "# domain.saveVolumeMesh(\"final\")\n",
    "\n",
    "# print_levelsets(domain)"
   ]
  },
  {
   "cell_type": "code",
   "execution_count": 7,
   "metadata": {
    "metadata": {}
   },
   "outputs": [],
   "source": [
    "# Access the level set object\n",
    "ls_substrate = domain.getLevelSets()[0]\n",
    "ls_deposited = domain.getLevelSets()[1]\n",
    "\n",
    "# Generate surface meshes\n",
    "mesh_substrate = vls.lsMesh()\n",
    "vls.lsToSurfaceMesh(ls_substrate, mesh_substrate).apply()\n",
    "\n",
    "mesh_deposited = vls.lsMesh()\n",
    "vls.lsToSurfaceMesh(ls_deposited, mesh_deposited).apply()"
   ]
  },
  {
   "cell_type": "code",
   "execution_count": 8,
   "metadata": {
    "metadata": {}
   },
   "outputs": [],
   "source": [
    "mesh_ls = vls.lsMesh()\n",
    "vls.lsToMesh(ls_substrate, mesh_ls).apply()\n",
    "vls.lsVTKWriter(mesh_ls, \"cvd_ls.vtp\").apply()"
   ]
  },
  {
   "cell_type": "code",
   "execution_count": 9,
   "metadata": {
    "metadata": {}
   },
   "outputs": [
    {
     "name": "stdout",
     "output_type": "stream",
     "text": [
      "[-0.9999999, -0.9999999, -0.9999999, -0.9999999, -0.9999999, -0.9999999, -0.9999999, -0.9999999, -0.9999999, -0.9999999, -0.9999999, -0.9999999, -0.9999999, -0.9125112452229428, 0.0, 0.0, 0.0, 0.0, 0.0, 0.0, 0.0, 0.0, 0.0, 0.0, 0.0, 0.0, 0.0, -0.9125112452229428, -0.9125112452229428, 0.0874886547770572, 0.0874886547770572, -0.9125112452229428, -0.8250225904458848, 0.17497730955411528, 0.17497730955411528, -0.8250225904458848, -0.7375339356688275, 0.2624659643311725, 0.2624659643311725, -0.7375339356688275, -0.6500452808917695, 0.34995461910823056, 0.34995461910823056, -0.6500452808917695, -0.5625566261147114, 0.4374432738852887, 0.4374432738852887, -0.5625566261147114, -0.47506797133765416, 0.5249319286623458, 0.5249319286623458, -0.47506797133765416, -0.3875793165605961, 0.612420583439404, 0.612420583439404, -0.3875793165605961, -0.300090661783538, 0.699909238216462, 0.699909238216462, -0.300090661783538, -0.21260200700648169, 0.7873978929935184, 0.7873978929935184, -0.21260200700648169, -0.1251133522294236, 0.8748865477705765, 0.8748865477705765, -0.1251133522294236, -0.03762469745236551, 0.9623752025476345, 0.9623752025476345, -0.03762469745236551, -0.9501359426753083, 0.04986395732469169, 0.04986395732469169, -0.9501359426753083, -0.8626472878982503, 0.1373526121017498, 0.1373526121017498, -0.8626472878982503, -0.7751586331211922, 0.22484126687880787, 0.22484126687880787, -0.7751586331211922, -0.6876699783441359, 0.3123299216558642, 0.3123299216558642, -0.6876699783441359, -0.6001813235670778, 0.3998185764329223, 0.3998185764329223, -0.6001813235670778, -0.5126926687900197, 0.4873072312099804, 0.4873072312099804, -0.5126926687900197, -0.4252040140129616, 0.5747958859870385, 0.5747958859870385, -0.4252040140129616, -0.9999999, -0.9999999, -0.9999999, -0.9999999, -0.9999999, -0.9999999, -0.9999999, -0.9999999, -0.3377153592359053, 0.6622845407640947, 0.6622845407640947, -0.3377153592359053, -0.9999999, -0.9999999, -0.9999999, -0.9999999, -0.9999999, -0.9999999, -0.9999999, -0.9999999, 0.0, 0.0, 0.0, 0.0, 0.0, 0.0, 0.0, 0.0, 0.0, 0.0, 0.0, 0.0, 0.0, 0.0, 0.0, 0.0, 0.0, 0.0]\n"
     ]
    }
   ],
   "source": [
    "print(mesh_ls.getCellData().getScalarData(\"LSValues\"))"
   ]
  },
  {
   "cell_type": "code",
   "execution_count": 10,
   "metadata": {
    "metadata": {}
   },
   "outputs": [
    {
     "data": {
      "image/png": "[encoded data removed]",
      "text/plain": [
       "<Figure size 640x480 with 1 Axes>"
      ]
     },
     "metadata": {},
     "output_type": "display_data"
    }
   ],
   "source": [
    "nodes = np.array(mesh_deposited.getNodes())\n",
    "lines = np.array(mesh_deposited.getLines())\n",
    "\n",
    "plt.scatter(nodes[:,0], nodes[:,1])\n",
    "\n",
    "nodes = np.array(mesh_substrate.getNodes())\n",
    "lines = np.array(mesh_substrate.getLines())\n",
    "\n",
    "plt.scatter(nodes[:,0], nodes[:,1])\n",
    "plt.show()"
   ]
  },
  {
   "cell_type": "code",
   "execution_count": 11,
   "metadata": {
    "metadata": {}
   },
   "outputs": [
    {
     "name": "stdout",
     "output_type": "stream",
     "text": [
      "[[-1.50000000e+01  0.00000000e+00  0.00000000e+00]\n",
      " [-1.50000000e+01 -2.50000000e-12  0.00000000e+00]\n",
      " [-1.25000000e+01 -2.50000000e-12  0.00000000e+00]\n",
      " [-1.00000000e+01 -2.50000000e-12  0.00000000e+00]\n",
      " [-7.50000000e+00 -2.50000000e-12  0.00000000e+00]\n",
      " [-5.00000000e+00 -2.50000000e-12  0.00000000e+00]\n",
      " [-2.50000000e+00 -2.50000000e-12  0.00000000e+00]\n",
      " [ 0.00000000e+00 -2.50000000e-12  0.00000000e+00]\n",
      " [ 2.50000000e+00 -2.50000000e-12  0.00000000e+00]\n",
      " [ 5.00000000e+00 -2.50000000e-12  0.00000000e+00]\n",
      " [ 7.50000000e+00 -2.50000000e-12  0.00000000e+00]\n",
      " [ 1.00000000e+01 -2.50000000e-12  0.00000000e+00]\n",
      " [ 1.25000000e+01 -2.50000000e-12  0.00000000e+00]\n",
      " [ 1.50000000e+01 -2.50000000e-12  0.00000000e+00]\n",
      " [ 1.50000000e+01  0.00000000e+00  0.00000000e+00]\n",
      " [-1.52187217e+01  2.50000000e+00  0.00000000e+00]\n",
      " [ 1.52187217e+01  2.50000000e+00  0.00000000e+00]\n",
      " [-1.54374433e+01  5.00000000e+00  0.00000000e+00]\n",
      " [ 1.54374433e+01  5.00000000e+00  0.00000000e+00]\n",
      " [-1.56561650e+01  7.50000000e+00  0.00000000e+00]\n",
      " [ 1.56561650e+01  7.50000000e+00  0.00000000e+00]\n",
      " [-1.58748866e+01  1.00000000e+01  0.00000000e+00]\n",
      " [ 1.58748866e+01  1.00000000e+01  0.00000000e+00]\n",
      " [-1.60936083e+01  1.25000000e+01  0.00000000e+00]\n",
      " [ 1.60936083e+01  1.25000000e+01  0.00000000e+00]\n",
      " [-1.63123300e+01  1.50000000e+01  0.00000000e+00]\n",
      " [ 1.63123300e+01  1.50000000e+01  0.00000000e+00]\n",
      " [-1.65310516e+01  1.75000000e+01  0.00000000e+00]\n",
      " [ 1.65310516e+01  1.75000000e+01  0.00000000e+00]\n",
      " [-1.67497733e+01  2.00000000e+01  0.00000000e+00]\n",
      " [ 1.67497733e+01  2.00000000e+01  0.00000000e+00]\n",
      " [-1.69684949e+01  2.25000000e+01  0.00000000e+00]\n",
      " [ 1.69684949e+01  2.25000000e+01  0.00000000e+00]\n",
      " [-1.71872166e+01  2.50000000e+01  0.00000000e+00]\n",
      " [ 1.71872166e+01  2.50000000e+01  0.00000000e+00]\n",
      " [-1.74059382e+01  2.75000000e+01  0.00000000e+00]\n",
      " [ 1.74059382e+01  2.75000000e+01  0.00000000e+00]\n",
      " [-1.76246599e+01  3.00000000e+01  0.00000000e+00]\n",
      " [-1.75000000e+01  2.85751308e+01  0.00000000e+00]\n",
      " [ 1.75000000e+01  2.85751308e+01  0.00000000e+00]\n",
      " [ 1.76246599e+01  3.00000000e+01  0.00000000e+00]\n",
      " [-1.78433816e+01  3.25000000e+01  0.00000000e+00]\n",
      " [ 1.78433816e+01  3.25000000e+01  0.00000000e+00]\n",
      " [-1.80621032e+01  3.50000000e+01  0.00000000e+00]\n",
      " [ 1.80621032e+01  3.50000000e+01  0.00000000e+00]\n",
      " [-1.82808249e+01  3.75000000e+01  0.00000000e+00]\n",
      " [ 1.82808249e+01  3.75000000e+01  0.00000000e+00]\n",
      " [-1.84995465e+01  4.00000000e+01  0.00000000e+00]\n",
      " [ 1.84995465e+01  4.00000000e+01  0.00000000e+00]\n",
      " [-1.87182682e+01  4.25000000e+01  0.00000000e+00]\n",
      " [ 1.87182682e+01  4.25000000e+01  0.00000000e+00]\n",
      " [-1.89369899e+01  4.50000000e+01  0.00000000e+00]\n",
      " [ 1.89369899e+01  4.50000000e+01  0.00000000e+00]\n",
      " [-1.91557115e+01  4.75000000e+01  0.00000000e+00]\n",
      " [ 1.91557115e+01  4.75000000e+01  0.00000000e+00]\n",
      " [-4.00000000e+01  5.00000000e+01  0.00000000e+00]\n",
      " [-3.75000000e+01  5.00000000e+01  0.00000000e+00]\n",
      " [-3.50000000e+01  5.00000000e+01  0.00000000e+00]\n",
      " [-3.25000000e+01  5.00000000e+01  0.00000000e+00]\n",
      " [-3.00000000e+01  5.00000000e+01  0.00000000e+00]\n",
      " [-2.75000000e+01  5.00000000e+01  0.00000000e+00]\n",
      " [-2.50000000e+01  5.00000000e+01  0.00000000e+00]\n",
      " [-2.25000000e+01  5.00000000e+01  0.00000000e+00]\n",
      " [-2.00000000e+01  5.00000000e+01  0.00000000e+00]\n",
      " [ 2.00000000e+01  5.00000000e+01  0.00000000e+00]\n",
      " [ 2.25000000e+01  5.00000000e+01  0.00000000e+00]\n",
      " [ 2.50000000e+01  5.00000000e+01  0.00000000e+00]\n",
      " [ 2.75000000e+01  5.00000000e+01  0.00000000e+00]\n",
      " [ 3.00000000e+01  5.00000000e+01  0.00000000e+00]\n",
      " [ 3.25000000e+01  5.00000000e+01  0.00000000e+00]\n",
      " [ 3.50000000e+01  5.00000000e+01  0.00000000e+00]\n",
      " [ 3.75000000e+01  5.00000000e+01  0.00000000e+00]\n",
      " [ 4.00000000e+01  5.00000000e+01  0.00000000e+00]]\n"
     ]
    }
   ],
   "source": [
    "print(nodes)"
   ]
  },
  {
   "cell_type": "code",
   "execution_count": null,
   "metadata": {},
   "outputs": [],
   "source": []
  }
 ],
 "metadata": {
  "kernelspec": {
   "display_name": "pvenv",
   "language": "python",
   "name": "python3"
  },
  "language_info": {
   "codemirror_mode": {
    "name": "ipython",
    "version": 3
   },
   "file_extension": ".py",
   "mimetype": "text/x-python",
   "name": "python",
   "nbconvert_exporter": "python",
   "pygments_lexer": "ipython3",
   "version": "3.11.6"
  }
 },
 "nbformat": 4,
 "nbformat_minor": 2
}
